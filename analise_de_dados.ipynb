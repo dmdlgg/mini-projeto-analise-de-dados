{
 "cells": [
  {
   "cell_type": "markdown",
   "id": "40600c18",
   "metadata": {},
   "source": [
    "Objetivos:\n",
    "1. Descobrir o valor total da folha salarial\n",
    "2. Descobrir o Faturamento da empresa\n",
    "3. Descobrir a porcentagem de funcionários que já fecharam um contrato\n",
    "4. Descobrir quantos contratos a área já fechou\n",
    "5. Descobrir a quantidade de funcionários por área\n",
    "6. Descobrir o Ticket Médio Mensal "
   ]
  },
  {
   "cell_type": "code",
   "execution_count": null,
   "id": "3e5c8981",
   "metadata": {},
   "outputs": [],
   "source": [
    "import pandas as pd\n",
    "\n",
    "servicos = pd.read_excel('BaseServiçosPrestados.xlsx')\n",
    "clientes = pd.read_csv('CadastroClientes.csv', sep=';', decimal=',')\n",
    "funcionarios = pd.read_csv('CadastroFuncionarios.csv', sep=';', decimal=',')\n",
    "\n",
    "#tratando os dados\n",
    "funcionarios = funcionarios.rename(columns={'Nome Completo': 'Nome do Funcionário'})\n",
    "funcionarios = funcionarios.drop(['Estado Civil', 'Cargo'], axis=1)\n",
    "servicos = servicos.merge(clientes, on='ID Cliente')\n",
    "\n",
    "#valor total da folha salarial\n",
    "funcionarios['Salario Total'] = funcionarios['Salario Base']+funcionarios['Impostos']+funcionarios['Beneficios']+funcionarios['VT']+funcionarios['VR'] #salario de cada funcionario\n",
    "print('Total da folha salarial: R${:,}'.format(sum(funcionarios['Salario Total'])))\n",
    "\n",
    "#faturamento da empresa \n",
    "servicos['Faturamento'] = servicos['Tempo Total de Contrato (Meses)'] * servicos['Valor Contrato Mensal']\n",
    "print('O faturamento da empresa foi de R${:,}'.format(sum(servicos['Faturamento'])))\n",
    "\n",
    "#porcentagem de funcionarios que ja fecharam um contrato\n",
    "funcionarios_fecharam = servicos['ID Funcionário'].unique()\n",
    "funcionarios_totais = funcionarios['ID Funcionário']\n",
    "print('A porcentagem de funcionarios que já fecharam um contrato é de {:.2%}'.format(len(funcionarios_fecharam)/len(funcionarios_totais)))\n",
    "\n",
    "#contratos que cada área já fechou\n",
    "c_area = servicos[['ID Funcionário']].merge(funcionarios[['ID Funcionário', 'Area']])\n",
    "qtde_c_area = c_area['Area'].value_counts()\n",
    "display(qtde_c_area)\n",
    "\n",
    "#quantidade de funcionarios por área\n",
    "func_por_area = funcionarios['Area'].value_counts()\n",
    "display(func_por_area)\n",
    "\n",
    "#ticket médio mensal\n",
    "t_m_mensal = servicos['Valor Contrato Mensal'].mean()\n",
    "print('O ticket médio mensal é de R${:,.2f}'.format(t_m_mensal))"
   ]
  }
 ],
 "metadata": {
  "kernelspec": {
   "display_name": "Python 3",
   "language": "python",
   "name": "python3"
  },
  "language_info": {
   "name": "python",
   "version": "3.13.3"
  }
 },
 "nbformat": 4,
 "nbformat_minor": 5
}
